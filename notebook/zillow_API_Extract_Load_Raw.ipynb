{
 "cells": [
  {
   "cell_type": "code",
   "execution_count": 1,
   "id": "5393a278",
   "metadata": {},
   "outputs": [],
   "source": [
    "import os\n",
    "import pandas as pd\n",
    "from sqlalchemy import create_engine\n",
    "from dotenv import load_dotenv"
   ]
  },
  {
   "cell_type": "code",
   "execution_count": 3,
   "id": "81fa2e36",
   "metadata": {},
   "outputs": [],
   "source": [
    "import os\n",
    "import pandas as pd\n",
    "from sqlalchemy import create_engine\n",
    "from dotenv import load_dotenv\n",
    "\n",
    "load_dotenv()\n",
    "\n",
    "DB_HOST = os.getenv('DB_HOST')\n",
    "DB_PORT = os.getenv('DB_PORT')\n",
    "DB_NAME = os.getenv('DB_NAME')\n",
    "DB_USER = os.getenv('DB_USER')\n",
    "DB_PASS = os.getenv('DB_PASS')\n"
   ]
  },
  {
   "cell_type": "code",
   "execution_count": 10,
   "id": "08b21401",
   "metadata": {},
   "outputs": [
    {
     "name": "stdout",
     "output_type": "stream",
     "text": [
      "DB_HOST: None\n",
      "DB_PORT: None\n",
      "DB_NAME: None\n",
      "DB_USER: None\n",
      "DB_PASS: None\n"
     ]
    }
   ],
   "source": [
    "print(\"DB_HOST:\", DB_HOST)\n",
    "print(\"DB_PORT:\", DB_PORT)\n",
    "print(\"DB_NAME:\", DB_NAME)\n",
    "print(\"DB_USER:\", DB_USER)\n",
    "print(\"DB_PASS:\", DB_PASS)"
   ]
  },
  {
   "cell_type": "code",
   "execution_count": 12,
   "id": "4e35084c",
   "metadata": {},
   "outputs": [],
   "source": [
    "load_dotenv()\n",
    "\n",
    "DB_HOST = os.getenv('DB_HOST')\n",
    "DB_PORT = os.getenv('DB_PORT')\n",
    "DB_NAME = os.getenv('DB_NAME')\n",
    "DB_USER = os.getenv('DB_USER')\n",
    "DB_PASS = os.getenv('DB_PASS')\n"
   ]
  },
  {
   "cell_type": "code",
   "execution_count": 13,
   "id": "8a3692a6",
   "metadata": {},
   "outputs": [
    {
     "name": "stdout",
     "output_type": "stream",
     "text": [
      "DB_HOST: isba-dev-01.c9aymouk8ptm.us-east-2.rds.amazonaws.com\n",
      "DB_PORT: 3306\n",
      "DB_NAME: sql_project\n",
      "DB_USER: admin\n",
      "DB_PASS: isba-4715\n"
     ]
    }
   ],
   "source": [
    "print(\"DB_HOST:\", DB_HOST)\n",
    "print(\"DB_PORT:\", DB_PORT)\n",
    "print(\"DB_NAME:\", DB_NAME)\n",
    "print(\"DB_USER:\", DB_USER)\n",
    "print(\"DB_PASS:\", DB_PASS)\n"
   ]
  },
  {
   "cell_type": "code",
   "execution_count": 20,
   "id": "cf691556",
   "metadata": {},
   "outputs": [
    {
     "name": "stdout",
     "output_type": "stream",
     "text": [
      "✅ Zillow data uploaded to AWS.\n"
     ]
    }
   ],
   "source": [
    "import os\n",
    "import pandas as pd\n",
    "from sqlalchemy import create_engine\n",
    "from dotenv import load_dotenv\n",
    "\n",
    "load_dotenv()\n",
    "\n",
    "# Load DB credentials from .env\n",
    "DB_HOST = os.getenv('DB_HOST')\n",
    "DB_PORT = os.getenv('DB_PORT')\n",
    "DB_NAME = os.getenv('DB_NAME')\n",
    "DB_USER = os.getenv('DB_USER')\n",
    "DB_PASS = os.getenv('DB_PASS')\n",
    "\n",
    "# Connect to MySQL on AWS\n",
    "engine = create_engine(\n",
    "    f\"mysql+pymysql://{DB_USER}:{DB_PASS}@{DB_HOST}:{DB_PORT}/{DB_NAME}\"\n",
    ")\n",
    "\n",
    "# Simulated Zillow data\n",
    "data = {\n",
    "    'city': ['Los Angeles', 'Austin', 'Miami', 'Denver', 'Seattle'],\n",
    "    'median_price': [880000, 540000, 600000, 510000, 720000],\n",
    "    'inventory': [1245, 987, 843, 1021, 1150],\n",
    "    'date': ['2024-04-01'] * 5\n",
    "}\n",
    "\n",
    "df = pd.DataFrame(data)\n",
    "\n",
    "# Upload to AWS RDS\n",
    "df.to_sql('zillow_raw', con=engine, schema='sql_project', if_exists='replace', index=False)\n",
    "print(\"✅ Zillow data uploaded to AWS.\")\n"
   ]
  }
 ],
 "metadata": {
  "kernelspec": {
   "display_name": "base",
   "language": "python",
   "name": "python3"
  },
  "language_info": {
   "codemirror_mode": {
    "name": "ipython",
    "version": 3
   },
   "file_extension": ".py",
   "mimetype": "text/x-python",
   "name": "python",
   "nbconvert_exporter": "python",
   "pygments_lexer": "ipython3",
   "version": "3.12.7"
  }
 },
 "nbformat": 4,
 "nbformat_minor": 5
}
