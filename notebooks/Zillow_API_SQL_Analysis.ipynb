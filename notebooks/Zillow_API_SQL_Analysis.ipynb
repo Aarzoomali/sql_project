{
 "cells": [
  {
   "cell_type": "code",
   "execution_count": 1,
   "id": "c16fba54",
   "metadata": {},
   "outputs": [],
   "source": [
    "import os\n",
    "import pandas as pd\n",
    "from sqlalchemy import create_engine\n",
    "from dotenv import load_dotenv\n",
    "\n",
    "# Load credentials from .env\n",
    "load_dotenv()\n",
    "DB_HOST = os.getenv(\"DB_HOST\")\n",
    "DB_PORT = os.getenv(\"DB_PORT\")\n",
    "DB_NAME = os.getenv(\"DB_NAME\")\n",
    "DB_USER = os.getenv(\"DB_USER\")\n",
    "DB_PASS = os.getenv(\"DB_PASS\")\n",
    "\n",
    "# Create engine\n",
    "engine = create_engine(\n",
    "    f\"postgresql+psycopg2://{DB_USER}:{DB_PASS}@{DB_HOST}:{DB_PORT}/{DB_NAME}\"\n",
    ")\n",
    "\n",
    "pd.set_option('display.max_rows', None)\n"
   ]
  },
  {
   "cell_type": "markdown",
   "id": "83a16ae6",
   "metadata": {},
   "source": [
    "### 🧠 Business Question:\n",
    "What is the average median house price by city in the Zillow dataset?\n"
   ]
  },
  {
   "cell_type": "code",
   "execution_count": 2,
   "id": "4620f767",
   "metadata": {},
   "outputs": [
    {
     "data": {
      "text/html": [
       "<div>\n",
       "<style scoped>\n",
       "    .dataframe tbody tr th:only-of-type {\n",
       "        vertical-align: middle;\n",
       "    }\n",
       "\n",
       "    .dataframe tbody tr th {\n",
       "        vertical-align: top;\n",
       "    }\n",
       "\n",
       "    .dataframe thead th {\n",
       "        text-align: right;\n",
       "    }\n",
       "</style>\n",
       "<table border=\"1\" class=\"dataframe\">\n",
       "  <thead>\n",
       "    <tr style=\"text-align: right;\">\n",
       "      <th></th>\n",
       "      <th>city</th>\n",
       "      <th>avg_median_price</th>\n",
       "    </tr>\n",
       "  </thead>\n",
       "  <tbody>\n",
       "    <tr>\n",
       "      <th>0</th>\n",
       "      <td>Los Angeles</td>\n",
       "      <td>880000.0</td>\n",
       "    </tr>\n",
       "    <tr>\n",
       "      <th>1</th>\n",
       "      <td>Seattle</td>\n",
       "      <td>720000.0</td>\n",
       "    </tr>\n",
       "    <tr>\n",
       "      <th>2</th>\n",
       "      <td>Miami</td>\n",
       "      <td>600000.0</td>\n",
       "    </tr>\n",
       "    <tr>\n",
       "      <th>3</th>\n",
       "      <td>Austin</td>\n",
       "      <td>540000.0</td>\n",
       "    </tr>\n",
       "    <tr>\n",
       "      <th>4</th>\n",
       "      <td>Denver</td>\n",
       "      <td>510000.0</td>\n",
       "    </tr>\n",
       "  </tbody>\n",
       "</table>\n",
       "</div>"
      ],
      "text/plain": [
       "          city  avg_median_price\n",
       "0  Los Angeles          880000.0\n",
       "1      Seattle          720000.0\n",
       "2        Miami          600000.0\n",
       "3       Austin          540000.0\n",
       "4       Denver          510000.0"
      ]
     },
     "execution_count": 2,
     "metadata": {},
     "output_type": "execute_result"
    }
   ],
   "source": [
    "# Descriptive query: Average median_price by city\n",
    "sql_query = '''\n",
    "SELECT \n",
    "    city, \n",
    "    ROUND(AVG(median_price), 2) AS avg_median_price\n",
    "FROM \n",
    "    sql_project.zillow_raw\n",
    "GROUP BY \n",
    "    city\n",
    "ORDER BY \n",
    "    avg_median_price DESC;\n",
    "'''\n",
    "\n",
    "df = pd.read_sql(sql_query, con=engine)\n",
    "df.head()\n"
   ]
  },
  {
   "cell_type": "markdown",
   "id": "81de44ed",
   "metadata": {},
   "source": [
    "### 📊 Insight:\n",
    "Seattle has the highest average house price, while Austin has the lowest in this sample.\n",
    "\n",
    "### ✅ Recommendation:\n",
    "If targeting affordability, Austin might be a focus for first-time buyers.\n",
    "\n",
    "### 🔮 Prediction:\n",
    "If trends continue, cities like Seattle may become increasingly unaffordable relative to others.\n"
   ]
  },
  {
   "cell_type": "markdown",
   "id": "2578d41d",
   "metadata": {},
   "source": [
    "### ❓ Business Question:\n",
    "Which city has the highest inventory, and how does that relate to its median housing price?\n"
   ]
  },
  {
   "cell_type": "code",
   "execution_count": 3,
   "id": "95413cb4",
   "metadata": {},
   "outputs": [
    {
     "data": {
      "text/html": [
       "<div>\n",
       "<style scoped>\n",
       "    .dataframe tbody tr th:only-of-type {\n",
       "        vertical-align: middle;\n",
       "    }\n",
       "\n",
       "    .dataframe tbody tr th {\n",
       "        vertical-align: top;\n",
       "    }\n",
       "\n",
       "    .dataframe thead th {\n",
       "        text-align: right;\n",
       "    }\n",
       "</style>\n",
       "<table border=\"1\" class=\"dataframe\">\n",
       "  <thead>\n",
       "    <tr style=\"text-align: right;\">\n",
       "      <th></th>\n",
       "      <th>city</th>\n",
       "      <th>inventory</th>\n",
       "      <th>median_price</th>\n",
       "      <th>price_per_home</th>\n",
       "    </tr>\n",
       "  </thead>\n",
       "  <tbody>\n",
       "    <tr>\n",
       "      <th>0</th>\n",
       "      <td>Los Angeles</td>\n",
       "      <td>1245</td>\n",
       "      <td>880000</td>\n",
       "      <td>706.83</td>\n",
       "    </tr>\n",
       "    <tr>\n",
       "      <th>1</th>\n",
       "      <td>Seattle</td>\n",
       "      <td>1150</td>\n",
       "      <td>720000</td>\n",
       "      <td>626.09</td>\n",
       "    </tr>\n",
       "    <tr>\n",
       "      <th>2</th>\n",
       "      <td>Denver</td>\n",
       "      <td>1021</td>\n",
       "      <td>510000</td>\n",
       "      <td>499.51</td>\n",
       "    </tr>\n",
       "    <tr>\n",
       "      <th>3</th>\n",
       "      <td>Austin</td>\n",
       "      <td>987</td>\n",
       "      <td>540000</td>\n",
       "      <td>547.11</td>\n",
       "    </tr>\n",
       "    <tr>\n",
       "      <th>4</th>\n",
       "      <td>Miami</td>\n",
       "      <td>843</td>\n",
       "      <td>600000</td>\n",
       "      <td>711.74</td>\n",
       "    </tr>\n",
       "  </tbody>\n",
       "</table>\n",
       "</div>"
      ],
      "text/plain": [
       "          city  inventory  median_price  price_per_home\n",
       "0  Los Angeles       1245        880000          706.83\n",
       "1      Seattle       1150        720000          626.09\n",
       "2       Denver       1021        510000          499.51\n",
       "3       Austin        987        540000          547.11\n",
       "4        Miami        843        600000          711.74"
      ]
     },
     "execution_count": 3,
     "metadata": {},
     "output_type": "execute_result"
    }
   ],
   "source": [
    "sql_query = '''\n",
    "SELECT \n",
    "    city, \n",
    "    inventory, \n",
    "    median_price,\n",
    "    ROUND(median_price::numeric / NULLIF(inventory, 0), 2) AS price_per_home\n",
    "FROM sql_project.zillow_raw\n",
    "ORDER BY inventory DESC;\n",
    "'''\n",
    "\n",
    "df = pd.read_sql(sql_query, con=engine)\n",
    "df.head()\n"
   ]
  },
  {
   "cell_type": "markdown",
   "id": "748211b5",
   "metadata": {},
   "source": [
    "### 📌 Insight:\n",
    "Los Angeles has the highest inventory and the highest price per home, indicating that even with greater supply, demand keeps prices high. This suggests inventory alone doesn’t drive pricing.\n"
   ]
  },
  {
   "cell_type": "markdown",
   "id": "13972383",
   "metadata": {},
   "source": [
    "### ✅ Recommendation:\n",
    "Investigate demand factors like migration trends and income levels in high-inventory cities to better understand pricing resilience.\n"
   ]
  },
  {
   "cell_type": "markdown",
   "id": "e2efadc0",
   "metadata": {},
   "source": [
    "### 🔮 Prediction:\n",
    "Cities like Denver and Austin may see price corrections if inventory keeps rising and demand doesn’t catch up.\n"
   ]
  }
 ],
 "metadata": {
  "kernelspec": {
   "display_name": "Python 3",
   "language": "python",
   "name": "python3"
  },
  "language_info": {
   "codemirror_mode": {
    "name": "ipython",
    "version": 3
   },
   "file_extension": ".py",
   "mimetype": "text/x-python",
   "name": "python",
   "nbconvert_exporter": "python",
   "pygments_lexer": "ipython3",
   "version": "3.12.1"
  }
 },
 "nbformat": 4,
 "nbformat_minor": 5
}
