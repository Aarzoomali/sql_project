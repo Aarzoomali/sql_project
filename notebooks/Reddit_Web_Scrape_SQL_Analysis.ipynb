<<<<<<< HEAD
import os
import pandas as pd
from sqlalchemy import create_engine
from dotenv import load_dotenv

# Load environment variables
load_dotenv()

# PostgreSQL connection
engine = create_engine(
    f"postgresql+psycopg2://{os.getenv('DB_USER')}:{os.getenv('DB_PASS')}@{os.getenv('DB_HOST')}:{os.getenv('DB_PORT')}/{os.getenv('DB_NAME')}"
)

=======
{
 "cells": [
  {
   "cell_type": "code",
   "execution_count": null,
   "id": "28e87906",
   "metadata": {},
   "outputs": [],
   "source": []
  }
 ],
 "metadata": {
  "language_info": {
   "name": "python"
  }
 },
 "nbformat": 4,
 "nbformat_minor": 5
}
>>>>>>> 14bc44a (Add Reddit sql analysis notebook)
